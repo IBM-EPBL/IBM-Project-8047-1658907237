{
  "cells": [
    {
      "cell_type": "markdown",
      "metadata": {
        "id": "tiVEnXuyF4wf"
      },
      "source": [
        "# Team ID: PNT2022TMID04922\n",
        "# Model_building_for_fruit_disease"
      ]
    },
    {
      "cell_type": "code",
      "execution_count": null,
      "metadata": {
        "id": "hdq3jV9Klc8w"
      },
      "outputs": [],
      "source": [
        "from keras.preprocessing.image import ImageDataGenerator\n",
        "train_datagen=ImageDataGenerator(rescale=1./255,shear_range=0.2,zoom_range=0.2,horizontal_flip=True)\n",
        "test_datagen=ImageDataGenerator(rescale=1)"
      ]
    },
    {
      "cell_type": "code",
      "execution_count": null,
      "metadata": {
        "colab": {
          "base_uri": "https://localhost:8080/"
        },
        "id": "79L0kipdlp8g",
        "outputId": "2bde1e7f-3996-424e-8600-458ab24d9562"
      },
      "outputs": [
        {
          "name": "stdout",
          "output_type": "stream",
          "text": [
            "Found 1686 images belonging to 6 classes.\n",
            "Found 5384 images belonging to 6 classes.\n"
          ]
        }
      ],
      "source": [
        "x_train=train_datagen.flow_from_directory(r'/content/drive/MyDrive/DataSet/Dataset Plant Disease/fruit-dataset/fruit-dataset/test',target_size=(128,128),batch_size=2,class_mode='categorical')\n",
        "x_test=test_datagen.flow_from_directory(r'/content/drive/MyDrive/DataSet/Dataset Plant Disease/fruit-dataset/fruit-dataset/train',target_size=(128,128),batch_size=2,class_mode='categorical')"
      ]
    },
    {
      "cell_type": "code",
      "execution_count": null,
      "metadata": {
        "id": "3bRM2jaemGen"
      },
      "outputs": [],
      "source": [
        "from keras.models import Sequential\n",
        "from keras.layers import Dense\n",
        "from keras.layers import Convolution2D\n",
        "from keras.layers import MaxPooling2D\n",
        "from keras.layers import Flatten"
      ]
    },
    {
      "cell_type": "code",
      "execution_count": null,
      "metadata": {
        "id": "Rt2LLaAmqJym"
      },
      "outputs": [],
      "source": [
        "model=Sequential()"
      ]
    },
    {
      "cell_type": "code",
      "execution_count": null,
      "metadata": {
        "id": "U-_oL0VWqj5-"
      },
      "outputs": [],
      "source": [
        "model.add(Convolution2D(32,(3,3),input_shape=(128,128,3),activation='relu'))"
      ]
    },
    {
      "cell_type": "code",
      "execution_count": null,
      "metadata": {
        "id": "_6-ayjzOqqzA"
      },
      "outputs": [],
      "source": [
        "model.add(MaxPooling2D(pool_size=(2,2)))"
      ]
    },
    {
      "cell_type": "code",
      "execution_count": null,
      "metadata": {
        "id": "xvsBvBRqq6Tt"
      },
      "outputs": [],
      "source": [
        "model.add(Flatten())"
      ]
    },
    {
      "cell_type": "code",
      "execution_count": null,
      "metadata": {
        "id": "V8QwFkPPrAo2"
      },
      "outputs": [],
      "source": [
        "model.add(Dense(units=40,kernel_initializer='uniform',activation='relu'))"
      ]
    },
    {
      "cell_type": "code",
      "execution_count": null,
      "metadata": {
        "id": "U59JTUjmrCI-"
      },
      "outputs": [],
      "source": [
        "model.add(Dense(units=20,kernel_initializer='random_uniform',activation='relu'))"
      ]
    },
    {
      "cell_type": "code",
      "execution_count": null,
      "metadata": {
        "id": "eqldrslFrFgG"
      },
      "outputs": [],
      "source": [
        "model.add(Dense(units=6,kernel_initializer='random_uniform',activation='softmax'))"
      ]
    },
    {
      "cell_type": "code",
      "execution_count": null,
      "metadata": {
        "id": "kfcdB5R6rTit"
      },
      "outputs": [],
      "source": [
        "model.compile(loss='categorical_crossentropy',optimizer=\"adam\",metrics=[\"accuracy\"])"
      ]
    },
    {
      "cell_type": "code",
      "execution_count": null,
      "metadata": {
        "colab": {
          "base_uri": "https://localhost:8080/"
        },
        "id": "G2GUrtOrFjdZ",
        "outputId": "75ba7210-2d4f-491b-a81c-0c28c269ed25"
      },
      "outputs": [
        {
          "name": "stdout",
          "output_type": "stream",
          "text": [
            "Epoch 1/20\n",
            "89/89 [==============================] - 18s 201ms/step - loss: 0.4114 - accuracy: 0.8764 - val_loss: 25.6859 - val_accuracy: 0.9259\n",
            "Epoch 2/20\n",
            "89/89 [==============================] - 17s 191ms/step - loss: 0.3548 - accuracy: 0.8876 - val_loss: 121.5058 - val_accuracy: 0.7593\n",
            "Epoch 3/20\n",
            "89/89 [==============================] - 16s 178ms/step - loss: 0.3149 - accuracy: 0.8596 - val_loss: 92.9890 - val_accuracy: 0.8333\n",
            "Epoch 4/20\n",
            "89/89 [==============================] - 16s 179ms/step - loss: 0.2673 - accuracy: 0.9157 - val_loss: 44.4134 - val_accuracy: 0.9259\n",
            "Epoch 5/20\n",
            "89/89 [==============================] - 16s 179ms/step - loss: 0.4496 - accuracy: 0.8315 - val_loss: 114.5069 - val_accuracy: 0.7963\n",
            "Epoch 6/20\n",
            "89/89 [==============================] - 16s 181ms/step - loss: 0.4912 - accuracy: 0.8258 - val_loss: 74.3852 - val_accuracy: 0.7963\n",
            "Epoch 7/20\n",
            "89/89 [==============================] - 17s 191ms/step - loss: 0.4440 - accuracy: 0.8315 - val_loss: 38.0450 - val_accuracy: 0.9074\n",
            "Epoch 8/20\n",
            "89/89 [==============================] - 17s 189ms/step - loss: 0.3460 - accuracy: 0.9045 - val_loss: 101.0049 - val_accuracy: 0.7963\n",
            "Epoch 9/20\n",
            "89/89 [==============================] - 14s 161ms/step - loss: 0.4628 - accuracy: 0.8427 - val_loss: 67.1219 - val_accuracy: 0.8519\n",
            "Epoch 10/20\n",
            "89/89 [==============================] - 16s 184ms/step - loss: 0.4445 - accuracy: 0.8146 - val_loss: 72.1230 - val_accuracy: 0.8333\n",
            "Epoch 11/20\n",
            "89/89 [==============================] - 15s 173ms/step - loss: 0.3353 - accuracy: 0.8708 - val_loss: 84.4692 - val_accuracy: 0.7593\n",
            "Epoch 12/20\n",
            "89/89 [==============================] - 12s 141ms/step - loss: 0.3237 - accuracy: 0.8764 - val_loss: 46.2378 - val_accuracy: 0.9259\n",
            "Epoch 13/20\n",
            "89/89 [==============================] - 14s 161ms/step - loss: 0.2462 - accuracy: 0.9045 - val_loss: 23.9153 - val_accuracy: 0.9259\n",
            "Epoch 14/20\n",
            "89/89 [==============================] - 14s 155ms/step - loss: 0.2902 - accuracy: 0.9101 - val_loss: 208.1245 - val_accuracy: 0.7778\n",
            "Epoch 15/20\n",
            "89/89 [==============================] - 14s 162ms/step - loss: 0.2816 - accuracy: 0.8989 - val_loss: 65.4288 - val_accuracy: 0.8519\n",
            "Epoch 16/20\n",
            "89/89 [==============================] - 15s 166ms/step - loss: 0.2422 - accuracy: 0.9157 - val_loss: 181.1028 - val_accuracy: 0.7963\n",
            "Epoch 17/20\n",
            "89/89 [==============================] - 14s 160ms/step - loss: 0.2712 - accuracy: 0.9101 - val_loss: 229.0342 - val_accuracy: 0.7222\n",
            "Epoch 18/20\n",
            "89/89 [==============================] - 13s 151ms/step - loss: 0.2775 - accuracy: 0.9157 - val_loss: 117.6737 - val_accuracy: 0.8148\n",
            "Epoch 19/20\n",
            "89/89 [==============================] - 13s 152ms/step - loss: 0.1857 - accuracy: 0.9438 - val_loss: 156.3340 - val_accuracy: 0.8148\n",
            "Epoch 20/20\n",
            "89/89 [==============================] - 14s 156ms/step - loss: 0.2138 - accuracy: 0.9213 - val_loss: 143.7909 - val_accuracy: 0.7593\n"
          ]
        },
        {
          "data": {
            "text/plain": [
              "<keras.callbacks.History at 0x7f9c206e6bd0>"
            ]
          },
          "execution_count": 33,
          "metadata": {},
          "output_type": "execute_result"
        }
      ],
      "source": [
        "model.fit(x_train,steps_per_epoch=89,epochs=20,validation_data=x_test,validation_steps=27)"
      ]
    },
    {
      "cell_type": "markdown",
      "metadata": {
        "id": "tK8OvnKwGhQa"
      },
      "source": [
        "## Save the Model"
      ]
    },
    {
      "cell_type": "code",
      "execution_count": null,
      "metadata": {
        "id": "xt3SNQqoMZ-O"
      },
      "outputs": [],
      "source": [
        "model.save('fruit.h5')"
      ]
    },
    {
      "cell_type": "code",
      "execution_count": null,
      "metadata": {
        "colab": {
          "base_uri": "https://localhost:8080/"
        },
        "id": "V1GrSJkaMt1D",
        "outputId": "7f8127a0-11f6-4927-b9b0-8b39faae2e0b"
      },
      "outputs": [
        {
          "name": "stdout",
          "output_type": "stream",
          "text": [
            "Model: \"sequential_2\"\n",
            "_________________________________________________________________\n",
            " Layer (type)                Output Shape              Param #   \n",
            "=================================================================\n",
            " conv2d_2 (Conv2D)           (None, 126, 126, 32)      896       \n",
            "                                                                 \n",
            " max_pooling2d_1 (MaxPooling  (None, 63, 63, 32)       0         \n",
            " 2D)                                                             \n",
            "                                                                 \n",
            " flatten_1 (Flatten)         (None, 127008)            0         \n",
            "                                                                 \n",
            " dense_3 (Dense)             (None, 40)                5080360   \n",
            "                                                                 \n",
            " dense_4 (Dense)             (None, 20)                820       \n",
            "                                                                 \n",
            " dense_5 (Dense)             (None, 6)                 126       \n",
            "                                                                 \n",
            "=================================================================\n",
            "Total params: 5,082,202\n",
            "Trainable params: 5,082,202\n",
            "Non-trainable params: 0\n",
            "_________________________________________________________________\n"
          ]
        }
      ],
      "source": [
        "model.summary()"
      ]
    }
  ],
  "metadata": {
    "colab": {
      "provenance": []
    },
    "kernelspec": {
      "display_name": "Python 3",
      "name": "python3"
    },
    "language_info": {
      "name": "python"
    }
  },
  "nbformat": 4,
  "nbformat_minor": 0
}
